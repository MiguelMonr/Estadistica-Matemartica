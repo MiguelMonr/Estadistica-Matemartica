{
 "cells": [
  {
   "cell_type": "markdown",
   "metadata": {},
   "source": [
    "Pregunta 1: Calcule n!; la correspondiente **aproximacion de Stirling** $(S(n))=n!\\approx \\sqrt{2\\pi n} n^n e^{-n}$; la diferencia entre ellas $(D(n)=n!-S(n))$; y la diferencia relativa $(DR(n)=D(n)/n!)$ para $n=1,...,12.$"
   ]
  },
  {
   "cell_type": "code",
   "execution_count": 1,
   "metadata": {
    "vscode": {
     "languageId": "r"
    }
   },
   "outputs": [
    {
     "name": "stdout",
     "output_type": "stream",
     "text": [
      "    n factorial_n stirling_approx   difference relative_difference\n",
      "1   1           1    9.221370e-01 7.786299e-02         0.077862991\n",
      "2   2           2    1.919004e+00 8.099565e-02         0.040497824\n",
      "3   3           6    5.836210e+00 1.637904e-01         0.027298401\n",
      "4   4          24    2.350618e+01 4.938249e-01         0.020576036\n",
      "5   5         120    1.180192e+02 1.980832e+00         0.016506934\n",
      "6   6         720    7.100782e+02 9.921815e+00         0.013780299\n",
      "7   7        5040    4.980396e+03 5.960417e+01         0.011826224\n",
      "8   8       40320    3.990240e+04 4.176045e+02         0.010357256\n",
      "9   9      362880    3.595369e+05 3.343127e+03         0.009212762\n",
      "10 10     3628800    3.598696e+06 3.010438e+04         0.008295960\n",
      "11 11    39916800    3.961563e+07 3.011749e+05         0.007545067\n",
      "12 12   479001600    4.756875e+08 3.314114e+06         0.006918794\n"
     ]
    }
   ],
   "source": [
    "# Define the function to compute factorial, Stirling's approximation, and differences\n",
    "compute_stirling <- function(n) {\n",
    "  factorial_n <- factorial(n)  # Compute n!\n",
    "  stirling_approx <- sqrt(2 * pi * n) * (n^n) * exp(-n)  # Compute Stirling's approximation\n",
    "  difference <- factorial_n - stirling_approx  # Absolute difference\n",
    "  relative_difference <- difference / factorial_n  # Relative difference\n",
    "  \n",
    "  return(data.frame(n, factorial_n, stirling_approx, difference, relative_difference))\n",
    "}\n",
    "\n",
    "# Apply the function for n = 1 to 12\n",
    "results <- do.call(rbind, lapply(1:12, compute_stirling))\n",
    "\n",
    "# Print the results\n",
    "print(results)\n"
   ]
  },
  {
   "cell_type": "markdown",
   "metadata": {},
   "source": [
    "| n  | n!  | S(n)  | D(n)  | D(n)/n!  |\n",
    "|---|---|---|---|---|\n",
    "| 1  |   |   |   |   |\n",
    "| 2  |   |   |   |   |\n",
    "| 3  |   |   |   |   |\n",
    "| 4  |   |   |   |   |\n",
    "| 5  |   |   |   |   |\n",
    "| 6  |   |   |   |   |\n",
    "| 7  |   |   |   |   |\n",
    "| 8  |   |   |   |   |\n",
    "| 9  |   |   |   |   |\n",
    "| 10  |   |   |   |   |\n",
    "| 11  |   |   |   |   |\n",
    "| 12  |   |   |   |   |"
   ]
  },
  {
   "cell_type": "markdown",
   "metadata": {},
   "source": [
    "Pregunta 2 (Simulacion): Ejecute el codigo anterior. Note que el objeto out es de clase “histogram”. Investigue que componentes tiene la lista out."
   ]
  },
  {
   "cell_type": "code",
   "execution_count": 3,
   "metadata": {
    "vscode": {
     "languageId": "r"
    }
   },
   "outputs": [
    {
     "data": {
      "image/png": "[encoded data removed]",
      "text/plain": [
       "Plot with title “Distribuci´on Gamma”"
      ]
     },
     "metadata": {
      "image/png": {
       "height": 420,
       "width": 420
      }
     },
     "output_type": "display_data"
    }
   ],
   "source": [
    "set.seed(20240905)\n",
    "N <- 20000\n",
    "x <- rgamma(N, shape=2, scale=1)\n",
    "out <- hist(x, xlab=\"observaciones\", ylab=\"frecuencia\", main=\"Distribuci´on Gamma\")"
   ]
  },
  {
   "cell_type": "code",
   "execution_count": 6,
   "metadata": {
    "vscode": {
     "languageId": "r"
    }
   },
   "outputs": [
    {
     "name": "stdout",
     "output_type": "stream",
     "text": [
      "List of 6\n",
      " $ breaks  : num [1:15] 0 1 2 3 4 5 6 7 8 9 ...\n",
      " $ counts  : int [1:14] 5303 6604 4110 2154 1007 452 204 85 50 17 ...\n",
      " $ density : num [1:14] 0.2651 0.3302 0.2055 0.1077 0.0503 ...\n",
      " $ mids    : num [1:14] 0.5 1.5 2.5 3.5 4.5 5.5 6.5 7.5 8.5 9.5 ...\n",
      " $ xname   : chr \"x\"\n",
      " $ equidist: logi TRUE\n",
      " - attr(*, \"class\")= chr \"histogram\"\n"
     ]
    }
   ],
   "source": [
    "str(out)"
   ]
  },
  {
   "cell_type": "markdown",
   "metadata": {
    "vscode": {
     "languageId": "r"
    }
   },
   "source": [
    "Con base en la simulacion anterior determine $p_N=P_N(3< X \\leq 4)$ y comparelo con $p=P(3<X\\leq4)$, la probabilidad teorica calculada con base en la distribucion de X, $Gamma(\\alpha=2, \\beta=1)$. La diferencia entre ellas es el **error de estimacion**, $\\epsilon=p_N-p=0.1079-0.1076=-0.0003$"
   ]
  },
  {
   "cell_type": "code",
   "execution_count": null,
   "metadata": {
    "vscode": {
     "languageId": "r"
    }
   },
   "outputs": [
    {
     "name": "stdout",
     "output_type": "stream",
     "text": [
      "Empirical Probability (p_N): 0.1077 \n",
      "Theoretical Probability (p): 0.1075701 \n",
      "Estimation Error (epsilon): 0.000129921 \n"
     ]
    }
   ],
   "source": [
    "# Compute empirical probability p_N\n",
    "p_N <- mean(x > 3 & x <= 4)\n",
    "\n",
    "# Compute theoretical probability p using pgamma function\n",
    "theoretical_p <- pgamma(4, shape=2, scale=1) - pgamma(3, shape=2, scale=1)\n",
    "\n",
    "# Compute estimation error epsilon\n",
    "epsilon <- p_N - theoretical_p\n",
    "\n",
    "# Print results\n",
    "cat(\"Empirical Probability (p_N):\", p_N, \"\\n\")\n",
    "cat(\"Theoretical Probability (p):\", theoretical_p, \"\\n\")\n",
    "cat(\"Estimation Error (epsilon):\", epsilon, \"\\n\")"
   ]
  },
  {
   "cell_type": "markdown",
   "metadata": {},
   "source": [
    "Pregunta 3) Calcule los errores de aproximacion de la distribucion normal teórica $(\\phi)$ a la distribucion del promedio de las distintas leyes de probabilidad de la tabla 2 para tamaños de muestra $n=30,100,500$, indicados en la tabla 3. \n",
    "\n",
    "---\n",
    "\n",
    "Tabla 2: tabla de funciones de dnsidad para distitnas leyes de probabilidad: \n",
    "$$\\begin{align*}\n",
    "\\text{Binomial: }& f(k;n,p)=\\binom{n}{k}p^k(1-p)^{n-k}\\mathbb{I}_{\\{0,1,...,n\\}}(k)\\\\\n",
    "\\text{Poisson: }& f(n;\\lambda)=e^{-\\lambda}\\frac{\\lambda^n}{n!}\\mathbb{I}_{\\{0,1,...,n\\}}(n)\\\\\n",
    "\\text{Normal: }& f(x;\\mu,\\sigma)=\\frac{1}{\\sqrt{2\\pi}\\sigma}e^{\\frac{1}{2}(\\frac{x-\\mu}{\\sigma})^2}\\mathbb{I}_{\\mathbb{R}}(x)\\\\\n",
    "\\text{Gamma: }& f(y;\\alpha,\\beta)=\\frac{1}{\\beta^\\alpha\\Gamma(\\alpha)}y^{\\alpha-1}e^{-y/\\beta}\\mathbb{I}_{\\mathbb{R^+}}(y)\\\\\n",
    "\\text{Beta: }& f(u;\\theta_1,\\theta_2)=\\frac{\\Gamma(\\theta_1)\\Gamma(\\theta_2)}{\\Gamma(\\theta_1+\\theta_2)}u^{\\theta_1-1}(1-u)^{\\theta_2-1}\\mathbb{I}_{(0,1)}(u)\n",
    "\\end{align*}$$"
   ]
  },
  {
   "cell_type": "code",
   "execution_count": 8,
   "metadata": {
    "vscode": {
     "languageId": "r"
    }
   },
   "outputs": [
    {
     "name": "stdout",
     "output_type": "stream",
     "text": [
      "   distribution   n        error\n",
      "1      binomial  30 0.0048076186\n",
      "2      binomial 100 0.0017377124\n",
      "3      binomial 500 0.0038437253\n",
      "4       poisson  30 0.0048552849\n",
      "5       poisson 100 0.0000855522\n",
      "6       poisson 500 0.0004606245\n",
      "7        normal  30 0.0084982439\n",
      "8        normal 100 0.0022024482\n",
      "9        normal 500 0.0038983928\n",
      "10        gamma  30 0.0087983653\n",
      "11        gamma 100 0.0049537035\n",
      "12        gamma 500 0.0010603833\n",
      "13         beta  30 0.0005558283\n",
      "14         beta 100 0.0002853538\n",
      "15         beta 500 0.0002525465\n"
     ]
    }
   ],
   "source": [
    "# Function to compute normal approximation errors\n",
    "compute_normal_approx_error <- function(dist, samples, n_values, params) {\n",
    "  errors <- data.frame()\n",
    "  \n",
    "  for (n in n_values) {\n",
    "    sample_means <- replicate(1000, {\n",
    "      if (dist == \"binomial\") {\n",
    "        mean(rbinom(n, size=params$size, prob=params$prob))\n",
    "      } else if (dist == \"poisson\") {\n",
    "        mean(rpois(n, lambda=params$lambda))\n",
    "      } else if (dist == \"normal\") {\n",
    "        mean(rnorm(n, mean=params$mu, sd=sqrt(params$sigma2)))\n",
    "      } else if (dist == \"gamma\") {\n",
    "        mean(rgamma(n, shape=params$alpha, scale=params$beta))\n",
    "      } else if (dist == \"beta\") {\n",
    "        mean(rbeta(n, shape1=params$theta1, shape2=params$theta2))\n",
    "      }\n",
    "    })\n",
    "    \n",
    "    theoretical_sd <- sqrt(var(sample_means))\n",
    "    normal_approx_sd <- sd(rnorm(1000, mean=mean(sample_means), sd=theoretical_sd))\n",
    "    error <- abs(theoretical_sd - normal_approx_sd)\n",
    "    \n",
    "    errors <- rbind(errors, data.frame(distribution=dist, n=n, error=error))\n",
    "  }\n",
    "  \n",
    "  return(errors)\n",
    "}\n",
    "\n",
    "# Define sample sizes\n",
    "n_values <- c(30, 100, 500)\n",
    "\n",
    "# Define parameters for different distributions\n",
    "distributions <- list(\n",
    "  binomial = list(size=10, prob=0.5),\n",
    "  poisson = list(lambda=4),\n",
    "  normal = list(mu=2, sigma2=4),\n",
    "  gamma = list(alpha=3, beta=1),\n",
    "  beta = list(theta1=1, theta2=1)\n",
    ")\n",
    "\n",
    "# Compute errors for each distribution\n",
    "errors_list <- lapply(names(distributions), function(d) compute_normal_approx_error(d, 1000, n_values, distributions[[d]]))\n",
    "errors_df <- do.call(rbind, errors_list)\n",
    "\n",
    "# Print the errors\n",
    "print(errors_df)"
   ]
  },
  {
   "cell_type": "markdown",
   "metadata": {},
   "source": [
    "Tabla 3: error de aproximacion normal a la del promedio de muestras de tamaño n para distintas distribuciones.\n",
    "\n",
    "| distribucion  | parametros  | n=30  | n=100  | n=500  | \n",
    "|---|---|---|---|---|\n",
    "| Binomial  | p=0.5,p=0.7,p=0.9  |   |   |   |\n",
    "| Poisson  | λ=1,λ=4,λ=8  |   |   |   |\n",
    "| Normal  | µ=2, σ^2=4  |   |   |   |\n",
    "| Gamma  | (α=1,β=3),(α=3,β=1),(α=5,β=5) |   |   |   |\n",
    "| Beta  |  (θ_1=1,θ_2=1),(θ_1=1/2,θ_2=2),(θ_1=3,θ_2=1/3),(θ_1=1/2,θ_2=1/2) |   |   |   |"
   ]
  }
 ],
 "metadata": {
  "kernelspec": {
   "display_name": "R",
   "language": "R",
   "name": "ir"
  },
  "language_info": {
   "codemirror_mode": "r",
   "file_extension": ".r",
   "mimetype": "text/x-r-source",
   "name": "R",
   "pygments_lexer": "r",
   "version": "4.2.2"
  }
 },
 "nbformat": 4,
 "nbformat_minor": 2
}
